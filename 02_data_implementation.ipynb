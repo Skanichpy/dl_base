{
 "cells": [
  {
   "cell_type": "code",
   "execution_count": 8,
   "metadata": {},
   "outputs": [],
   "source": [
    "# %run ./01_preprocessing.ipynb "
   ]
  },
  {
   "cell_type": "code",
   "execution_count": 162,
   "metadata": {},
   "outputs": [
    {
     "name": "stdout",
     "output_type": "stream",
     "text": [
      "The autoreload extension is already loaded. To reload it, use:\n",
      "  %reload_ext autoreload\n"
     ]
    }
   ],
   "source": [
    "%load_ext autoreload\n",
    "%autoreload 2 \n",
    "import pandas as pd\n",
    "from data_tools import Vocab, TextDataset\n",
    "from torch.utils.data import DataLoader \n",
    "\n",
    "from pathlib import Path "
   ]
  },
  {
   "cell_type": "code",
   "execution_count": 167,
   "metadata": {},
   "outputs": [],
   "source": [
    "## reading data from dir:\n",
    "clean_data_path = Path(\"data/writes/clean_data/\")\n",
    "test_data_path, train_data_path = sorted(clean_data_path.glob(\"*\"))\n",
    "\n",
    "train_data = pd.read_parquet(train_data_path)\n",
    "test_data = pd.read_parquet(test_data_path)"
   ]
  },
  {
   "cell_type": "code",
   "execution_count": 56,
   "metadata": {},
   "outputs": [
    {
     "name": "stdout",
     "output_type": "stream",
     "text": [
      "Vocab(n_tokens=109169| max_seq_len=13)\n",
      "Vocab[55521]=клумб\n"
     ]
    }
   ],
   "source": [
    "## create vocab from train_data:\n",
    "vocab = Vocab(pd.concat([train_data,test_data]), target_col='author', text_col='sent')\n",
    "print(vocab)\n",
    "train_data = vocab.data\n",
    "test_data = vocab.build_target_transform(test_data, col='author', t_encoder=vocab.t_encoder)"
   ]
  },
  {
   "cell_type": "code",
   "execution_count": 137,
   "metadata": {},
   "outputs": [],
   "source": [
    "## create dataset:\n",
    "train_dataset = TextDataset(train_data, target_col='author', \n",
    "                            text_col='sent', vocab=vocab)\n",
    "test_dataset = TextDataset(test_data, target_col='author',\n",
    "                           text_col='sent', vocab=vocab)\n",
    "\n",
    "train_loader = DataLoader(train_dataset, batch_size=256,\n",
    "                          shuffle=True)\n",
    "test_loader = DataLoader(test_dataset, batch_size=128,\n",
    "                         shuffle=True)"
   ]
  }
 ],
 "metadata": {
  "kernelspec": {
   "display_name": "Python 3",
   "language": "python",
   "name": "python3"
  },
  "language_info": {
   "codemirror_mode": {
    "name": "ipython",
    "version": 3
   },
   "file_extension": ".py",
   "mimetype": "text/x-python",
   "name": "python",
   "nbconvert_exporter": "python",
   "pygments_lexer": "ipython3",
   "version": "3.9.6"
  },
  "orig_nbformat": 4
 },
 "nbformat": 4,
 "nbformat_minor": 2
}
